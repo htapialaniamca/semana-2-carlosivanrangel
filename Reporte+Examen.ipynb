{
 "cells": [
  {
   "cell_type": "markdown",
   "metadata": {},
   "source": [
    "## Reporte de evaluacion individual - 21/06/17\n",
    "\n",
    "Se realizó la conexion a la raspberry desde la computadora usando GitBash.\n",
    "\n",
    ">ssh pi@rpi-lania0.local\n",
    "\n",
    "Se ingresó al directorio \"comades\"\n",
    "\n",
    "\n",
    ">pi@rpi-lania0:~ $ cd comades/\n",
    "\n",
    ">pi@rpi-lania0:~/comades $ cd python/\n",
    "\n",
    ">pi@rpi-lania0:~/comades/python $ ls\n",
    "\n",
    ">led.py  machinefile  primero.py  segundo.py\n",
    "\n",
    "Se hizo una copia del archivo led.\n",
    "\n",
    ">pi@rpi-lania0:~/comades/python  cp led.py ledequipo0-4.py\n",
    ">pi@rpi-lania0:~/comades/python  ls\n",
    ">ledequipo0-4.py  led.py  machinefile  primero.py  segundo.py\n",
    "\n",
    "Se copió el archivo a la raspberry donde se iba a realizar el ejercicio y se verificaron los \"machinefile\" para asegurar que las raspberry estuvieran listadas en el orden correcto. Se verificó tambien el codigo fuente del archivo py para ver si los leds estaban ennumerados como se esperaba.\n",
    "\n",
    ">pi@rpi-lania0:~/comades/python  scp ledequipo0-4.py pi@rpi-lania4.local:~/comades/python\n",
    ">ledequipo0-4.py                            100% 1874     1.8KB/s   00:00\n",
    "\n",
    "Se ejecutó el comando mpi\n",
    "\n",
    ">pi@rpi-lania0:~ $ mpirun.openmpi -np 2 -machinefile machinefile4 python ledequipo0-4.py\n",
    "\n",
    "Se obtuvo el siguiente error:\n",
    "\n",
    ">Open RTE was unable to open the hostfile:\n",
    ">    machinefile4\n",
    ">Check to make sure the path and filename are correct.\n",
    ">[rpi-lania0:01976] [[62797,0],0] ORTE_ERROR_LOG: Not found in file base/ras_base_allocate.c at line 222\n",
    ">[rpi-lania0:01976] [[62797,0],0] ORTE_ERROR_LOG: Not found in file base/plm_base_launch_support.c at line 99\n",
    ">[rpi-lania0:01976] [[62797,0],0] ORTE_ERROR_LOG: Not found in file plm_rsh_module.c at line 1173\n",
    "\n",
    "\n",
    "Para completar la actividad, los dias posteriores se trabajó con las raspberry 5 y 2.\n",
    "\n",
    "Se repitieron los pasos hasta antes de ejecutar el comando mpi, el cual se reemplazó por el siguiente comando:\n",
    "\n",
    ">pi@rpi-lania5:~ $ mpirun.openmpi -np 2 -host rpi-lania5.local,rpi-lania2.local python led5a2.py\n",
    "\n",
    "Se obtuvieron los siguientes resultados:\n",
    "\n",
    "![sc1](https://lh6.googleusercontent.com/Yt7V7x9jL3-FmXbRkpGNnZlr3p6rr5Sl7DK0l-x7DVGdo2lSrr1flKxfh32uCCime2leJyQoytPjDSw=w1920-h948)\n",
    "\n",
    "![sc2](https://lh5.googleusercontent.com/nOU7dLJaGCuNvmuKq0RSfDQcnvgyVNKLBldQKJzqslTtBljKVW6E9trM1vDU3XW0irPHdf7_su9vuOk=w1920-h948-rw)\n",
    "\n"
   ]
  },
  {
   "cell_type": "code",
   "execution_count": null,
   "metadata": {
    "collapsed": true
   },
   "outputs": [],
   "source": []
  }
 ],
 "metadata": {
  "kernelspec": {
   "display_name": "Python 2",
   "language": "python",
   "name": "python2"
  },
  "language_info": {
   "codemirror_mode": {
    "name": "ipython",
    "version": 2
   },
   "file_extension": ".py",
   "mimetype": "text/x-python",
   "name": "python",
   "nbconvert_exporter": "python",
   "pygments_lexer": "ipython2",
   "version": "2.7.13"
  }
 },
 "nbformat": 4,
 "nbformat_minor": 2
}
